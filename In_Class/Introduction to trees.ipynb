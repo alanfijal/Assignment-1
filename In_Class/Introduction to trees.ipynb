{
 "cells": [
  {
   "cell_type": "markdown",
   "id": "1cfb7338",
   "metadata": {},
   "source": [
    "# Introduction to trees\n",
    "\n",
    "\n",
    "For all the exercises in this notebook, we will use the following tree structure:\n",
    "\n",
    "<img src=\"https://raw.githubusercontent.com/jnin/information-systems/main/figures/tree.jpeg\" alt=\"Tree example\" style=\"width: 800px;\"/>\n"
   ]
  },
  {
   "cell_type": "markdown",
   "id": "36aa6548",
   "metadata": {},
   "source": [
    "\n",
    "<div class=\"alert alert-info\"><b>Exercise 1</b> \n",
    "    \n",
    "\n",
    "Search inside the tree the following nodes:\n",
    "    \n",
    "- The root node\n",
    "- The parent node of the node containing the number 9\n",
    "- The sibling node of the node containing the number 2\n",
    "- All leaf nodes\n",
    "\n",
    "</div>"
   ]
  },
  {
   "cell_type": "code",
   "execution_count": null,
   "id": "63f5fbb5",
   "metadata": {},
   "outputs": [],
   "source": [
    "#root -> 11\n",
    "#parent of node 9 -> 6\n",
    "#sibling of 2 -> 5\n",
    "#1, 4, 7, 12, 17"
   ]
  },
  {
   "cell_type": "markdown",
   "id": "ffa1bbef",
   "metadata": {},
   "source": [
    "<div class=\"alert alert-info\"><b>Exercise 2</b> \n",
    "  \n",
    "Search inside the tree the following nodes:\n",
    "\n",
    "- Neighbor nodes of the node containing the number 8\n",
    "- Ancestors of the node containing the number 17\n",
    "- Descendants of the node containing the number 16\n",
    "- Degree of the node containing the number 13\n",
    "\n",
    "</div>"
   ]
  },
  {
   "cell_type": "code",
   "execution_count": null,
   "id": "9581a7d1",
   "metadata": {},
   "outputs": [],
   "source": [
    "#9, 7\n",
    "#18, 19, 16, 12\n"
   ]
  },
  {
   "cell_type": "markdown",
   "id": "6a735d19",
   "metadata": {},
   "source": [
    "<div class=\"alert alert-info\"><b>Exercise 3</b> \n",
    "\n",
    "Compute the following values: \n",
    "- Tree degree\n",
    "- Distance between the nodes containing numbers 4 and 7\n",
    "- Level of the nodes containing numbers 2, 9 and 12\n",
    "- Maximum width of the tree\n",
    "- Breadth of the tree\n",
    "- The tree size\n",
    "\n",
    "</div>"
   ]
  },
  {
   "cell_type": "code",
   "execution_count": null,
   "id": "f9ae4013",
   "metadata": {},
   "outputs": [],
   "source": []
  },
  {
   "cell_type": "markdown",
   "id": "fe44a0d2",
   "metadata": {},
   "source": [
    "<div class=\"alert alert-info\"><b>Exercise 4</b> \n",
    "\n",
    "Traverse the tree in inorder, preorder and postorder using the Deep First Search algorithm (DFS).\n",
    "\n",
    "</div>"
   ]
  },
  {
   "cell_type": "code",
   "execution_count": null,
   "id": "2d5100f2",
   "metadata": {},
   "outputs": [],
   "source": [
    "# 1 -> 2 -> 3 -> 5 -> 4 -> "
   ]
  },
  {
   "cell_type": "markdown",
   "id": "44e38463",
   "metadata": {},
   "source": [
    "<div class=\"alert alert-info\"><b>Exercise 5</b> \n",
    "\n",
    "Traverse the tree using the Breadth First Search algorithm (BFS).\n",
    "\n",
    "</div>"
   ]
  },
  {
   "cell_type": "code",
   "execution_count": null,
   "id": "c3ee7968",
   "metadata": {},
   "outputs": [],
   "source": []
  }
 ],
 "metadata": {
  "kernelspec": {
   "display_name": "Python 3 (ipykernel)",
   "language": "python",
   "name": "python3"
  },
  "language_info": {
   "codemirror_mode": {
    "name": "ipython",
    "version": 3
   },
   "file_extension": ".py",
   "mimetype": "text/x-python",
   "name": "python",
   "nbconvert_exporter": "python",
   "pygments_lexer": "ipython3",
   "version": "3.9.7"
  }
 },
 "nbformat": 4,
 "nbformat_minor": 5
}
