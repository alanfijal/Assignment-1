{
 "cells": [
  {
   "attachments": {},
   "cell_type": "markdown",
   "id": "d87462c1",
   "metadata": {},
   "source": [
    "# Recursion\n",
    "\n",
    "<div class=\"alert alert-info\"><b>Exercise 1</b>\n",
    "\n",
    "Implement the function factorial using a recursive function\n",
    "\n",
    "</div>\n"
   ]
  },
  {
   "cell_type": "code",
   "execution_count": 1,
   "id": "5f1313e3",
   "metadata": {},
   "outputs": [],
   "source": [
    "def factorial(n):\n",
    "    if n <= 1:\n",
    "        return 1\n",
    "\n",
    "    return n * factorial(n-1)"
   ]
  },
  {
   "cell_type": "code",
   "execution_count": 2,
   "id": "d3c12a08",
   "metadata": {},
   "outputs": [
    {
     "data": {
      "text/plain": [
       "24"
      ]
     },
     "execution_count": 2,
     "metadata": {},
     "output_type": "execute_result"
    }
   ],
   "source": [
    "factorial(4)"
   ]
  },
  {
   "attachments": {},
   "cell_type": "markdown",
   "id": "da06094a",
   "metadata": {},
   "source": [
    "<div class=\"alert alert-info\"><b>Exercise 2</b>\n",
    "\n",
    "Implement the Fibonacci sequence using a recursive function\n",
    "\n",
    "</div>\n",
    "\n",
    "<div class=\"alert alert-warning\">\n",
    "Use this link for more information about the Fibonacci number: https://en.wikipedia.org/wiki/Fibonacci_number\n",
    "</div>"
   ]
  },
  {
   "cell_type": "code",
   "execution_count": 5,
   "id": "3e09d915",
   "metadata": {},
   "outputs": [],
   "source": [
    "def fibonacci(n):\n",
    "    if n <= 1:\n",
    "        return n\n",
    "    \n",
    "    return fibonacci(n - 1) + fibonacci(n - 2)"
   ]
  },
  {
   "cell_type": "code",
   "execution_count": 6,
   "id": "3fc313c7",
   "metadata": {},
   "outputs": [
    {
     "data": {
      "text/plain": [
       "[0, 1, 1, 2, 3, 5, 8, 13, 21, 34, 55, 89, 144, 233, 377]"
      ]
     },
     "execution_count": 6,
     "metadata": {},
     "output_type": "execute_result"
    }
   ],
   "source": [
    "[fibonacci(i) for i in range(15)]"
   ]
  },
  {
   "attachments": {},
   "cell_type": "markdown",
   "id": "efdf013c",
   "metadata": {},
   "source": [
    "<div class=\"alert alert-info\"><b>Exercise 2</b>\n",
    "\n",
    "Implement the Euclidean algorithm to find the GCD of two integer numbers using a Recursive function.\n",
    "\n",
    "</div>\n",
    "<div class=\"alert alert-warning\">\n",
    "Use this link for more information about how it works: https://en.wikipedia.org/wiki/Euclidean_algorithm\n",
    "</div>"
   ]
  },
  {
   "cell_type": "code",
   "execution_count": 12,
   "id": "8b9b5230",
   "metadata": {},
   "outputs": [],
   "source": [
    "def gcd(a, b):\n",
    "    if b == 0:\n",
    "        return a\n",
    "    if a > b:\n",
    "        return gcd(b, a%b)"
   ]
  },
  {
   "cell_type": "code",
   "execution_count": 13,
   "id": "2f27d68d",
   "metadata": {},
   "outputs": [],
   "source": [
    "gcd(7,13)"
   ]
  },
  {
   "cell_type": "code",
   "execution_count": 14,
   "id": "f993014e",
   "metadata": {},
   "outputs": [
    {
     "data": {
      "text/plain": [
       "2"
      ]
     },
     "execution_count": 14,
     "metadata": {},
     "output_type": "execute_result"
    }
   ],
   "source": [
    "gcd(14,12)"
   ]
  }
 ],
 "metadata": {
  "kernelspec": {
   "display_name": "Python 3 (ipykernel)",
   "language": "python",
   "name": "python3"
  },
  "language_info": {
   "codemirror_mode": {
    "name": "ipython",
    "version": 3
   },
   "file_extension": ".py",
   "mimetype": "text/x-python",
   "name": "python",
   "nbconvert_exporter": "python",
   "pygments_lexer": "ipython3",
   "version": "3.11.3"
  }
 },
 "nbformat": 4,
 "nbformat_minor": 5
}
